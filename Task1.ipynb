{
 "cells": [
  {
   "cell_type": "code",
   "execution_count": 2,
   "id": "ec8ab1fc",
   "metadata": {},
   "outputs": [],
   "source": [
    "#Выполнить предобработку данных (продумать самостоятельно)\n",
    "\n",
    "#Поделить на две выборки - валидационную и обучающую.\n",
    "\n",
    "#Предложить 5 принципиально разных архитектур (количесвто слоёв, число нейронов, тип слоя, функция активации и т.д.)\n",
    "\n",
    "#Каждую архитектуру обучить, визуализировать кривые обучения (для тестовой и валидационной выборок). Сравнить между собой.\n",
    "\n",
    "#Написать утилиту, которая будет строить график предсказания будущих значений на основе начального фрагмента.\n",
    "\n",
    "#Написать классификатор, который выдаёт рекомендации по конвертации актива.\n",
    "\n",
    "#Adjust data (choose adjustment by yourself)\n",
    "\n",
    "#Split into 2 datasets for validation and learning\n",
    "\n",
    "#Suggest 5 different architectures (number of layers, number of neurons, layer types, activation function etc.)\n",
    "\n",
    "#Create an util for graphic represetation of learning curves (for test and validation sets). Compare these graphs\n",
    "\n",
    "#Create a classificator for active conversion recommendations"
   ]
  },
  {
   "cell_type": "code",
   "execution_count": 3,
   "id": "c47e4f88",
   "metadata": {},
   "outputs": [],
   "source": [
    "import matplotlib.pyplot as plt"
   ]
  },
  {
   "cell_type": "markdown",
   "id": "5ac4cba4",
   "metadata": {},
   "source": [
    "Let's read the data set and plot it"
   ]
  },
  {
   "cell_type": "code",
   "execution_count": 4,
   "id": "d78a35d1",
   "metadata": {},
   "outputs": [],
   "source": [
    "data = eval(open('task1.txt', 'r').read())\n",
    "data = [float(data[i]) for i in range(len(data))]"
   ]
  },
  {
   "cell_type": "code",
   "execution_count": 5,
   "id": "78a7e845",
   "metadata": {},
   "outputs": [
    {
     "data": {
      "image/png": "[encoded data removed]",
      "text/plain": [
       "<Figure size 432x288 with 1 Axes>"
      ]
     },
     "metadata": {
      "needs_background": "light"
     },
     "output_type": "display_data"
    }
   ],
   "source": [
    "plt.plot(range(len(data)), data)\n",
    "plt.show()"
   ]
  },
  {
   "cell_type": "markdown",
   "id": "4e1641c4",
   "metadata": {},
   "source": [
    "Let's propose several methods for data normalization"
   ]
  },
  {
   "cell_type": "code",
   "execution_count": 6,
   "id": "e8a59b07",
   "metadata": {},
   "outputs": [
    {
     "name": "stdout",
     "output_type": "stream",
     "text": [
      "no normalization: [264.3555, 264.3036, 264.2789, 264.3605, 264.3539, 264.2027, 264.2849, 264.2578, 264.0906, 264.0058, 264.1437, 264.1797, 264.2599, 264.3004, 264.382, 264.4754, 264.6475, 264.4376, 264.5201, 264.4135]\n",
      "conventional normalization: [411.4611968209717, 411.3803179055906, 411.341826398656, 411.4689886239949, 411.4587034440042, 411.223079320582, 411.3511765622838, 411.3089449898979, 411.0483870968015, 410.9162381175277, 411.13113604490803, 411.1872370266753, 411.31221754716773, 411.37533115165576, 411.50249337699466, 411.64804425746837, 411.9162381175276, 411.58913822661293, 411.717702976496, 411.55158173604104]\n",
      "raw change normalization: [0, -0.05189999999998918, -0.024699999999995725, 0.08159999999998035, -0.006599999999991724, -0.1512000000000171, 0.08220000000000027, -0.027100000000018554, -0.1671999999999798, -0.0847999999999729, 0.1379000000000019, 0.036000000000001364, 0.08019999999999072, 0.04050000000000864, 0.08159999999998035, 0.09339999999997417, 0.17210000000000036, -0.20990000000000464, 0.08250000000003865, -0.10660000000001446]\n",
      "relative change normalization: [0, -0.00019632653756017625, -9.345313495539117e-05, 0.00030876471787940826, -2.4965908295648268e-05, -0.0005719605422882624, 0.0003111247538348407, -0.00010254085647730367, -0.000632715477083287, -0.00032110192486962014, 0.0005223370092626825, 0.0001362894515371798, 0.00030358123655977625, 0.00015325821284276818, 0.0003087396008480515, 0.00035327669811096885, 0.0006507221465588118, -0.0007931304848902962, 0.0003119828647667301, -0.00040299395017624165]\n"
     ]
    }
   ],
   "source": [
    "def noNorm(data):\n",
    "    return [i for i in data]\n",
    "\n",
    "def conventionalNorm(data):\n",
    "    a, b = min(data), max(data)\n",
    "    return [(x - (b - a) / 2) / (b - a) for x in data]\n",
    "\n",
    "def rawChangeNorm(data):\n",
    "    res = [0,]\n",
    "    for i in [1 + j for j in range(len(data) - 1)]:\n",
    "        res.append(data[i] - data[i-1])\n",
    "    return res\n",
    "\n",
    "def relativeChangeNorm(data):\n",
    "    res = [0,]\n",
    "    for i in [1 + j for j in range(len(data) - 1)]:\n",
    "        res.append((data[i] - data[i-1]) / data[i-1])\n",
    "    return res\n",
    "\n",
    "print(\"no normalization:\", noNorm(data[:20]))\n",
    "print(\"conventional normalization:\", conventionalNorm(data[:20]))\n",
    "print(\"raw change normalization:\", rawChangeNorm(data[:20]))\n",
    "print(\"relative change normalization:\", relativeChangeNorm(data[:20]))"
   ]
  },
  {
   "cell_type": "markdown",
   "id": "e4329906",
   "metadata": {},
   "source": [
    "Let's define general customizable model to train"
   ]
  },
  {
   "cell_type": "code",
   "execution_count": 7,
   "id": "1281cb7c",
   "metadata": {},
   "outputs": [],
   "source": [
    "import torch.nn\n",
    "\n",
    "class Linear(torch.nn.Module):\n",
    "    def __init__(self, config):\n",
    "        super(Linear, self).__init__()\n",
    "        architecture = []\n",
    "        for x in config:\n",
    "            architecture.append(torch.nn.Linear(x[\"in\"], x[\"out\"]))\n",
    "            architecture.append(x[\"act\"])\n",
    "        self.layers = torch.nn.Sequential(*architecture)\n",
    "        \n",
    "    def forward(self, x):\n",
    "        x = x.flatten()\n",
    "        return self.layers(x)"
   ]
  },
  {
   "cell_type": "code",
   "execution_count": 25,
   "id": "09df9538",
   "metadata": {},
   "outputs": [],
   "source": [
    "import numpy as np \n",
    "import time\n",
    "\n",
    "def splitData(data, batchSize):\n",
    "    xx = [data[i:i + 10] for i in range(len(data) - batchSize)]\n",
    "    xx = np.array(xx, dtype=np.float)\n",
    "    xx = torch.from_numpy(xx).float()\n",
    "    \n",
    "    yy = [data[i] for i in [10 + j for j in range(len(data) - batchSize)]]\n",
    "    yy = np.array(yy, dtype=np.float)\n",
    "    yy = torch.from_numpy(yy).float()\n",
    "    \n",
    "    return xx, yy\n",
    "\n",
    "def batches(device, x, y, batchSize):\n",
    "    start = time.time()\n",
    "    dataset = torch.utils.data.TensorDataset(x.to(device), y.to(device))\n",
    "    loader = torch.utils.data.DataLoader(dataset=dataset, batch_size=1, shuffle=False)\n",
    "    print(\"batch preparation finished in \", time.time() - start)\n",
    "    for [xBatch, yBatch] in loader:\n",
    "        yield xBatch, yBatch"
   ]
  },
  {
   "cell_type": "code",
   "execution_count": 41,
   "id": "b2295c22",
   "metadata": {},
   "outputs": [],
   "source": [
    "import time\n",
    "\n",
    "def train(model, xdata, ydata, batchSize, lossFunc, optimizer, device, nEpochs = 50):\n",
    "    for e in range(nEpochs):\n",
    "        start = time.time()\n",
    "        cumLoss = 0\n",
    "        n = 0\n",
    "        avgIter = 0\n",
    "        for x, y in batches(device, xdata, ydata, batchSize):\n",
    "            pred = model(x)\n",
    "            optimizer.zero_grad()\n",
    "            loss = lossFunc(pred, y)\n",
    "            cumLoss += loss.item()\n",
    "            loss.backward()\n",
    "            optimizer.step()\n",
    "            n += 1\n",
    "        avgLoss = cumLoss / n\n",
    "        elapsed = time.time() - start\n",
    "        print(f\"Epoch {str(e + 1):>02} Avg train loss: {avgLoss:.4f} Elapsed time: {elapsed:.2f}s\")"
   ]
  },
  {
   "cell_type": "markdown",
   "id": "d43a9a78",
   "metadata": {},
   "source": [
    "Lets try the first random architecture"
   ]
  },
  {
   "cell_type": "code",
   "execution_count": null,
   "id": "130f46d0",
   "metadata": {},
   "outputs": [],
   "source": [
    "d = noNorm(data)\n",
    "dTrain, dTest = d[:int(0.8 * len(d))], d[int(0.8 * len(d)):]\n",
    "\n",
    "device = torch.device(\"cpu\")\n",
    "\n",
    "model = Linear([\n",
    "    {\"in\": 10, \"out\": 5, \"act\": torch.nn.ReLU()},\n",
    "    {\"in\": 5, \"out\": 3, \"act\": torch.nn.ReLU()},\n",
    "    {\"in\": 3, \"out\": 1, \"act\": torch.nn.ReLU()}\n",
    "]).to(device)\n",
    "batchSize = 10\n",
    "xx, yy = splitData(dTrain, 10)\n",
    "\n",
    "learningRate = 0.01\n",
    "optimizer = torch.optim.Adam(model.parameters(), lr=learningRate)\n",
    "lossFunc = torch.nn.L1Loss(reduction='sum')\n",
    "\n",
    "train(model, xx, yy, 10, lossFunc, optimizer, device, nEpochs=10)"
   ]
  },
  {
   "cell_type": "code",
   "execution_count": null,
   "id": "73778e4a",
   "metadata": {},
   "outputs": [],
   "source": [
    "xTest, yTest = splitData(dTest, 10)\n"
   ]
  }
 ],
 "metadata": {
  "kernelspec": {
   "display_name": "Python 3 (ipykernel)",
   "language": "python",
   "name": "python3"
  },
  "language_info": {
   "codemirror_mode": {
    "name": "ipython",
    "version": 3
   },
   "file_extension": ".py",
   "mimetype": "text/x-python",
   "name": "python",
   "nbconvert_exporter": "python",
   "pygments_lexer": "ipython3",
   "version": "3.9.7"
  }
 },
 "nbformat": 4,
 "nbformat_minor": 5
}
