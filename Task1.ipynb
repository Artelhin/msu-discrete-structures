{
 "cells": [
  {
   "cell_type": "code",
   "execution_count": 4,
   "id": "ec8ab1fc",
   "metadata": {},
   "outputs": [],
   "source": [
    "#Выполнить предобработку данных (продумать самостоятельно)\n",
    "\n",
    "#Поделить на две выборки - валидационную и обучающую.\n",
    "\n",
    "#Предложить 5 принципиально разных архитектур (количесвто слоёв, число нейронов, тип слоя, функция активации и т.д.)\n",
    "\n",
    "#Каждую архитектуру обучить, визуализировать кривые обучения (для тестовой и валидационной выборок). Сравнить между собой.\n",
    "\n",
    "#Написать утилиту, которая будет строить график предсказания будущих значений на основе начального фрагмента.\n",
    "\n",
    "#Написать классификатор, который выдаёт рекомендации по конвертации актива.\n",
    "\n",
    "#Adjust data (choose adjustment by yourself)\n",
    "\n",
    "#Split into 2 datasets for validation and learning\n",
    "\n",
    "#Suggest 5 different architectures (number of layers, number of neurons, layer types, activation function etc.)\n",
    "\n",
    "#Create an util for graphic represetation of learning curves (for test and validation sets). Compare these graphs\n",
    "\n",
    "#Create a classificator for active conversion recommendations"
   ]
  },
  {
   "cell_type": "code",
   "execution_count": 5,
   "id": "c47e4f88",
   "metadata": {},
   "outputs": [],
   "source": [
    "import matplotlib.pyplot as plt"
   ]
  },
  {
   "cell_type": "markdown",
   "id": "5ac4cba4",
   "metadata": {},
   "source": [
    "Let's read the data set and plot it"
   ]
  },
  {
   "cell_type": "code",
   "execution_count": null,
   "id": "d78a35d1",
   "metadata": {},
   "outputs": [],
   "source": [
    "data = eval(open('task1.txt', 'r').read())\n",
    "print(data)"
   ]
  },
  {
   "cell_type": "code",
   "execution_count": null,
   "id": "890dcc91",
   "metadata": {},
   "outputs": [],
   "source": []
  }
 ],
 "metadata": {
  "kernelspec": {
   "display_name": "Python 3 (ipykernel)",
   "language": "python",
   "name": "python3"
  },
  "language_info": {
   "codemirror_mode": {
    "name": "ipython",
    "version": 3
   },
   "file_extension": ".py",
   "mimetype": "text/x-python",
   "name": "python",
   "nbconvert_exporter": "python",
   "pygments_lexer": "ipython3",
   "version": "3.9.7"
  }
 },
 "nbformat": 4,
 "nbformat_minor": 5
}
